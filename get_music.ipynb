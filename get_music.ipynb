{
 "cells": [
  {
   "cell_type": "code",
   "execution_count": 1,
   "metadata": {},
   "outputs": [],
   "source": [
    "import os\n",
    "import numpy as np \n",
    "import pandas as pd \n",
    "import pickle\n",
    "\n",
    "import string\n",
    "from string import digits\n",
    "\n",
    "import re\n",
    "from collections import defaultdict\n",
    "\n",
    "from music21 import *"
   ]
  },
  {
   "cell_type": "code",
   "execution_count": 2,
   "metadata": {},
   "outputs": [],
   "source": [
    "# with open('../chords_dict.pkl', 'rb') as picklefile:\n",
    "#     d = pickle.load(picklefile)"
   ]
  },
  {
   "cell_type": "code",
   "execution_count": 2,
   "metadata": {},
   "outputs": [],
   "source": [
    "def open_midi(midi_path, remove_drums):\n",
    "    '''\n",
    "    There is an one-line method to read MIDIs\n",
    "    but to remove the drums we need to manipulate some\n",
    "    low level MIDI events.\n",
    "    '''\n",
    "    \n",
    "    mf = midi.MidiFile()\n",
    "    mf.open(midi_path)\n",
    "    mf.read()\n",
    "    mf.close()\n",
    "    if (remove_drums):\n",
    "        for i in range(len(mf.tracks)):\n",
    "            mf.tracks[i].events = [ev for ev in mf.tracks[i].events if ev.channel != 10]\n",
    "            # By convention track 10 is reserved for percussion\n",
    "    melody_track = \"\"\n",
    "    \n",
    "    '''\n",
    "    It is hard to identify the melody track. I'll do my best by looking for keywords, \n",
    "    but even if I'm confusing the melody with the base line I'm assuming it is still \n",
    "    useful to capture the relationship between that and the harmony of the song.\n",
    "    '''\n",
    "    \n",
    "    for track in range(len(mf.tracks)):\n",
    "            if 'lead' in str(mf.tracks[track].events[1].data).lower() or 'voice' in str(mf.tracks[track].events[1].data).lower() or 'melody' in str(mf.tracks[track].events[1].data).lower() or 'karaoke' in str(mf.tracks[track].events[1].data).lower():\n",
    "                melody_track = track - 1\n",
    "                break\n",
    "    if melody_track == \"\":\n",
    "        melody_track = 0\n",
    "        # By convention the first track is the melody\n",
    "    return (midi.translate.midiFileToStream(mf),melody_track)"
   ]
  },
  {
   "cell_type": "code",
   "execution_count": 3,
   "metadata": {},
   "outputs": [],
   "source": [
    "notes_unique = ['i','bi','#i','ii','bii','#ii','iii','biii','#iii', \n",
    "  'iv','biv','#iv','v','bv','#v','vi','bvi','#vi',\n",
    "  'vii','bvii','#vii','rest']"
   ]
  },
  {
   "cell_type": "code",
   "execution_count": 4,
   "metadata": {},
   "outputs": [],
   "source": [
    "def get_melo_encoded(df,melody_track):\n",
    "    ''' This function returns the encoded melody'''\n",
    "    music_key = df.analyze('key')\n",
    "    time = []\n",
    "    melody_roman = []\n",
    "    duration = []\n",
    "    for nt in (df.parts[melody_track].notesAndRests):\n",
    "        note_array = np.zeros(len(notes_unique)+1) # add one place for the duration of the note\n",
    "        if isinstance(nt, note.Note):     \n",
    "            time.append(float(nt.offset))\n",
    "            roman_chord = chord.Chord(nt.pitch.name + \" \" + \"C\") # for some reason Music21 doesn't allow to \n",
    "            roman_chord.remove('C') # convert augmented notes into a chord, so I add and remove 'C' and it works\n",
    "            roman_chord_numeral = roman.romanNumeralFromChord(roman_chord,music_key).figure\n",
    "            note_array[notes_unique.index(roman_chord_numeral)] = 1\n",
    "            note_array[22] = nt.duration.quarterLength\n",
    "            melody_roman.append(note_array)\n",
    "        elif isinstance(nt, note.Rest):\n",
    "            time.append(float(nt.offset))\n",
    "            note_array[21] = 1\n",
    "            note_array[22] = nt.duration.quarterLength\n",
    "            melody_roman.append(note_array)\n",
    "    \n",
    "            \n",
    "    melody = pd.DataFrame({'offset':time,'input':melody_roman})\n",
    "    melody['group'] = melody['offset'].apply(lambda x: np.floor(x/float(4))) # split sequences in groups of 4 offsets\n",
    "    return melody"
   ]
  },
  {
   "cell_type": "code",
   "execution_count": 5,
   "metadata": {},
   "outputs": [],
   "source": [
    "def get_chords(df):\n",
    "    '''Using chordify function extract the harmony of the song'''\n",
    "    music_key = df.analyze('key')\n",
    "    df_chordify = df.chordify()\n",
    "\n",
    "    time = []\n",
    "    chordify = []\n",
    "    \n",
    "    for thisChord in df_chordify.recurse().getElementsByClass('Chord'):\n",
    "        time.append(float(thisChord.offset))\n",
    "        chordify.append(simplify_roman_name(thisChord, music_key))\n",
    "\n",
    "    chordify_df = pd.DataFrame({'offset':time,'target':chordify})\n",
    "    chordify_df['group'] = chordify_df['offset'].apply(lambda x: np.floor(x/float(4)))\n",
    "    return chordify_df"
   ]
  },
  {
   "cell_type": "code",
   "execution_count": 6,
   "metadata": {},
   "outputs": [],
   "source": [
    "d = defaultdict(str)\n",
    "def simplify_roman_name(thisChord, music_key):\n",
    "    global d\n",
    "    if d[(str(thisChord), str(music_key))]:\n",
    "        return d[(str(thisChord), str(music_key))]\n",
    "    roman_numeral = roman.romanNumeralFromChord(thisChord, music_key)\n",
    "    '''Thanks @wfaria for this code! https://www.kaggle.com/wfaria/midi-music-data-extraction-using-music21/notebook\n",
    "    in this method we try to simplify names, even if it ends in\n",
    "    a different chord to reduce the chord vocabulary and reduce the number of classes for the decoder model.'''\n",
    "    \n",
    "    \n",
    "    ret = roman_numeral.romanNumeral\n",
    "    inversion_name = None\n",
    "    inversion = roman_numeral.inversion()\n",
    "    \n",
    "    # Checking valid inversions.\n",
    "    if ((roman_numeral.isTriad() and inversion < 3) or\n",
    "            (inversion < 4 and\n",
    "                 (roman_numeral.seventh is not None or roman_numeral.isSeventh()))):\n",
    "        inversion_name = roman_numeral.inversionName()\n",
    "        \n",
    "    if (inversion_name is not None):\n",
    "        ret = ret + str(inversion_name)\n",
    "        \n",
    "    elif (roman_numeral.isDominantSeventh()): ret = ret + \"M7\"\n",
    "    elif (roman_numeral.isDiminishedSeventh()): ret = ret + \"o7\"\n",
    "    d[(str(thisChord), str(music_key))] = ret\n",
    "    return ret"
   ]
  },
  {
   "cell_type": "code",
   "execution_count": 7,
   "metadata": {},
   "outputs": [],
   "source": [
    "def group_measure_encoded(df):\n",
    "    ''' We group melodies and harmonies by 4 offsets'''\n",
    "    \n",
    "    df = df.fillna(\"null\")\n",
    "    grouped = df.groupby('group_x')\n",
    "    input_texts = np.array([np.array(list(grouped.get_group(x)['input'])) for x in grouped.groups])\n",
    "    target_texts = [list(grouped.get_group(x)['target']) for x in grouped.groups]\n",
    "    group = [x for x in grouped.groups]\n",
    "    target_texts = [' '.join(x) for x in target_texts]\n",
    "    return pd.DataFrame({'group':group,'input':input_texts,'target':target_texts})"
   ]
  },
  {
   "cell_type": "code",
   "execution_count": 8,
   "metadata": {},
   "outputs": [],
   "source": [
    "def get_melo_chord(df,melody_track):\n",
    "    ''' Returns the final dataframe with the melody and the harmony'''\n",
    "    melo = get_melo_encoded(df,melody_track)\n",
    "    chords = get_chords(df)    \n",
    "    melo_chords = melo.merge(chords,on='offset',how='left')\n",
    "    grouped  = group_measure_encoded(melo_chords)\n",
    "\n",
    "    final = (grouped\n",
    "             .sort_values(by='group')\n",
    "             .rename(columns={'input':'melody','target':'harmony'})\n",
    "             .fillna('rest')) \n",
    "    return final"
   ]
  },
  {
   "cell_type": "code",
   "execution_count": 9,
   "metadata": {},
   "outputs": [
    {
     "name": "stdout",
     "output_type": "stream",
     "text": [
      "processing file  04823afe63438741d70fc9c6083f522a.mid\n",
      "processing file  08bb1300476659f0b318896670a89b39.mid\n",
      "processing file  0cbb4ec645d5cc60e14e27b51e1660dd.mid\n",
      "processing file  096bc34fbe50e58c2ac36a1e8c2fc752.mid\n",
      "processing file  03f3e2c02f0f61e8142fd1049bd6dd5d.mid\n",
      "processing file  0a12b5fbdd27f8be2e4412013cd7c8be.mid\n",
      "processing file  0c0c3ba74a4977fc635b2673ef3db7c9.mid\n",
      "processing file  0ac68ec6594fc26e383c6fb4590a48d0.mid\n",
      "processing file  0b63dcdbc167f1a4618d001080091ffc.mid\n",
      "processing file  0e0e734424ceda5dfe4d6de0b20d49b4.mid\n",
      "processing file  0d6d0540fc4e1178ae11b4562894e48e.mid\n",
      "processing file  0ed68d986ba7a29fab2c765b2baced35.mid\n",
      "processing file  03b0a3a4225538c792fb72db8c22f7ad.mid\n",
      "couldnt process file  03b0a3a4225538c792fb72db8c22f7ad.mid\n",
      "processing file  09b64e761bb341dccaaf1e9ecd172068.mid\n",
      "processing file  096feb77e464ec03aa519165500ccb56.mid\n",
      "processing file  07a34ec6484183f2b299fba6878eb881.mid\n",
      "processing file  0b4b476ae6dfd73205b104e4cb9e79e0.mid\n",
      "processing file  0d1b564859e1e61a84994b38f7c86bc1.mid\n",
      "processing file  0ef04edd4edfd43cd7c76602485e19fc.mid\n",
      "processing file  0891bfcac9993d3b22dc1f7c01b80f1f.mid\n"
     ]
    }
   ],
   "source": [
    "for folder in ['0']:#,'6','5','4','3','2','1','0','9','8']:\n",
    "    processed_songs = []\n",
    "    subfolder = \"../lmd_full/\" + folder\n",
    "    midis = os.listdir(subfolder)\n",
    "    try:\n",
    "        midis.remove('.DS_Store')\n",
    "    except:\n",
    "        pass\n",
    "    midis = midis[:20]\n",
    "    for midi_name in midis:\n",
    "        path = \"../lmd_full/\" + folder + \"/\" + midi_name\n",
    "        try:\n",
    "            print('processing file ', midi_name)\n",
    "            song, melody_track = open_midi(path,True)\n",
    "            song_roman = get_melo_chord(song,melody_track)\n",
    "            processed_songs.append(song_roman)\n",
    "        except:\n",
    "            print('couldnt process file ', midi_name)\n",
    "#     with open('processed_songs_{}.pkl'.format(folder), 'wb') as picklefile:\n",
    "#         pickle.dump(processed_songs, picklefile)\n",
    "        \n"
   ]
  },
  {
   "cell_type": "code",
   "execution_count": 15,
   "metadata": {},
   "outputs": [],
   "source": [
    "with open('processed_songs.pkl', 'wb') as picklefile:\n",
    "    pickle.dump(processed_songs, picklefile)"
   ]
  },
  {
   "cell_type": "code",
   "execution_count": 14,
   "metadata": {},
   "outputs": [],
   "source": [
    "with open('dict.pkl', 'wb') as picklefile:\n",
    "    pickle.dump(d, picklefile)"
   ]
  },
  {
   "cell_type": "code",
   "execution_count": null,
   "metadata": {},
   "outputs": [],
   "source": []
  }
 ],
 "metadata": {
  "kernelspec": {
   "display_name": "Python 3",
   "language": "python",
   "name": "python3"
  },
  "language_info": {
   "codemirror_mode": {
    "name": "ipython",
    "version": 3
   },
   "file_extension": ".py",
   "mimetype": "text/x-python",
   "name": "python",
   "nbconvert_exporter": "python",
   "pygments_lexer": "ipython3",
   "version": "3.6.6"
  }
 },
 "nbformat": 4,
 "nbformat_minor": 2
}
